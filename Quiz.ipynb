{
  "nbformat": 4,
  "nbformat_minor": 0,
  "metadata": {
    "colab": {
      "provenance": [],
      "authorship_tag": "ABX9TyNRSFtTwz1hd54j8PEC49MH",
      "include_colab_link": true
    },
    "kernelspec": {
      "name": "python3",
      "display_name": "Python 3"
    },
    "language_info": {
      "name": "python"
    }
  },
  "cells": [
    {
      "cell_type": "markdown",
      "metadata": {
        "id": "view-in-github",
        "colab_type": "text"
      },
      "source": [
        "<a href=\"https://colab.research.google.com/github/Vivek9120/assignment/blob/main/Quiz.ipynb\" target=\"_parent\"><img src=\"https://colab.research.google.com/assets/colab-badge.svg\" alt=\"Open In Colab\"/></a>"
      ]
    },
    {
      "cell_type": "markdown",
      "source": [
        "Q-17-01\n",
        "Receive the coordinates (x1, y1), (x2, y2) of two points from the user and print the distance between the two\n",
        "points as follows. To do this, implement the function distance(x1, y1, x2, y2).\n",
        "\n",
        "Code guideline: Refer to the figure below for the formula to find the distance between two points."
      ],
      "metadata": {
        "id": "_yGoLQXyTKxq"
      }
    },
    {
      "cell_type": "code",
      "execution_count": 2,
      "metadata": {
        "id": "29hUCvWg6W64",
        "colab": {
          "base_uri": "https://localhost:8080/",
          "height": 0
        },
        "outputId": "e2db60c3-010c-479e-fdf8-71aca8213ff6"
      },
      "outputs": [
        {
          "output_type": "stream",
          "name": "stdout",
          "text": [
            "Enter the coordinates like this(x1,y1,x2,y2)3,5,6,7\n",
            "3.605551275463989\n"
          ]
        }
      ],
      "source": [
        "import math\n",
        "def distance(x1,y1,x2,y2):\n",
        "  x=(x2-x1)**2\n",
        "  y=(y2-y1)**2\n",
        "  return math.sqrt(x+y)\n",
        "x1,y1,x2,y2=input(\"Enter the coordinates like this(x1,y1,x2,y2)\").split(\",\")\n",
        "x1=int(x1)\n",
        "y1=int(y1)\n",
        "x2=int(x2)\n",
        "y2=int(y2)\n",
        "print(distance(x1,y1,x2,y2))\n"
      ]
    },
    {
      "cell_type": "markdown",
      "source": [
        "Q-18-01\n",
        "A palindrome is a sentence, word, or string that is the same as reading any character from back-to-back. For example,\n",
        "there are words like level, eve, radar.\n",
        "\n",
        "Let's use a recursive call to determine the palindrome. Define a function called is_palindrome and write a program that\n",
        "receives a string from the user and prints whether the palindrome is correct or not.\n",
        "\n",
        "Code guideline: Call the is_palindrome function inside the is_palindrome function."
      ],
      "metadata": {
        "id": "gXGH8GbZbVgN"
      }
    },
    {
      "cell_type": "code",
      "source": [
        "def isPalindrome(string):\n",
        "    if len(string) < 1: \n",
        "        return True\n",
        "    else: \n",
        "        if string[0]==string[-1]: \n",
        "            return isPalindrome(string[1:-1]) \n",
        "        else: \n",
        "            return False \n",
        " \n",
        "#Enter input string \n",
        "str1=input(\"Enter string:\") \n",
        " \n",
        "if(isPalindrome(str1)==True): \n",
        "    print(\"The string is a palindrome.\") \n",
        "else: \n",
        "    print(\"The string is not a palindrome.\") \n"
      ],
      "metadata": {
        "colab": {
          "base_uri": "https://localhost:8080/",
          "height": 0
        },
        "id": "T_wUyFfybfM9",
        "outputId": "f99a543c-e8c9-4696-c5c0-e14c0a1ae8fd"
      },
      "execution_count": 7,
      "outputs": [
        {
          "output_type": "stream",
          "name": "stdout",
          "text": [
            "Enter string:level\n",
            "The string is a palindrome.\n"
          ]
        }
      ]
    },
    {
      "cell_type": "markdown",
      "source": [
        "Q-19-01\n",
        "After putting a list named n_list with values of [10, 20, 30] into the map function, the results are as follows."
      ],
      "metadata": {
        "id": "sRjk0iZzeelE"
      }
    },
    {
      "cell_type": "code",
      "source": [
        "n_list=[10,20,30]\n",
        "square_n_list=list(map(lambda x:x**2,n_list))\n",
        "print(square_n_list)"
      ],
      "metadata": {
        "colab": {
          "base_uri": "https://localhost:8080/",
          "height": 0
        },
        "id": "n2dWF8LpenR6",
        "outputId": "71d75231-f442-471d-bc16-8c8e5113a382"
      },
      "execution_count": 8,
      "outputs": [
        {
          "output_type": "stream",
          "name": "stdout",
          "text": [
            "[100, 400, 900]\n"
          ]
        }
      ]
    },
    {
      "cell_type": "markdown",
      "source": [
        "Q-21-01\n",
        "Implement the multiplication (*) and division (/) functions of two vectors using the mul and truediv methods learned in\n",
        "unit 21. Assuming that v1 is (30, 40) and v2 is (10, 20), code (write the output statement) to return the output below as the\n",
        "result of multiplication and division of two vectors.\n",
        "\n",
        "Coding guideline: Write code that extends the functionality of the Vector2D class you learned in this chapter."
      ],
      "metadata": {
        "id": "wEI7-7RbgkdM"
      }
    },
    {
      "cell_type": "code",
      "source": [
        "class Vector2D:\n",
        "  def __init__(self,x,y):\n",
        "    self.x=x\n",
        "    self.y=y\n",
        "  def __mul__(self, other):\n",
        "    return Vector2D(self.x*other.x,self.y*other.y)\n",
        "  def __truediv__(self, other):\n",
        "    return Vector2D(self.x/other.x,self.y/other.y)\n",
        "  def __str__(self):\n",
        "    return \"({}, {})\".format(self.x,self.y)\n",
        "\n",
        "v1=Vector2D(30,40)\n",
        "v2=Vector2D(10,20)\n",
        "v3=v1*v2\n",
        "print('v1*v2=',v3)\n",
        "v4=v1/v2\n",
        "print('v1/v2=',v4)"
      ],
      "metadata": {
        "colab": {
          "base_uri": "https://localhost:8080/"
        },
        "id": "SKXDZ1dygqHr",
        "outputId": "9135029b-191c-47b0-fc95-56ca26fcba21"
      },
      "execution_count": 10,
      "outputs": [
        {
          "output_type": "stream",
          "name": "stdout",
          "text": [
            "v1*v2= (300, 800)\n",
            "v1/v2= (3.0, 2.0)\n"
          ]
        }
      ]
    }
  ]
}